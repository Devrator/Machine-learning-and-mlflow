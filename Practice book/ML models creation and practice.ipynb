{
 "cells": [
  {
   "cell_type": "code",
   "execution_count": 0,
   "metadata": {
    "application/vnd.databricks.v1+cell": {
     "cellMetadata": {
      "byteLimit": 2048000,
      "rowLimit": 10000
     },
     "inputWidgets": {},
     "nuid": "53c1a474-0a03-43de-b2b4-5e846b080ff6",
     "showTitle": false,
     "tableResultSettingsMap": {},
     "title": ""
    }
   },
   "outputs": [],
   "source": [
    "data = [\n",
    "    (\"001\", \"Female\", 0, \"Yes\", \"No\", 5, \"Yes\", \"No\", \"Fiber optic\", \"No\", \"Yes\", \"No\", \"No\", \"Yes\", \"Yes\", \"Month-to-month\", \"Yes\", \"Electronic check\", 70.35, 351.75, \"Yes\"),\n",
    "    (\"002\", \"Male\", 1, \"No\", \"No\", 15, \"Yes\", \"Yes\", \"DSL\", \"Yes\", \"No\", \"Yes\", \"Yes\", \"No\", \"No\", \"One year\", \"No\", \"Mailed check\", 45.70, 685.50, \"No\"),\n",
    "    (\"003\", \"Female\", 0, \"Yes\", \"Yes\", 34, \"Yes\", \"No\", \"No\", \"No internet\", \"No internet\", \"No internet\", \"No internet\", \"No internet\", \"No internet\", \"Two year\", \"No\", \"Bank transfer (auto)\", 20.10, 683.40, \"No\"),\n",
    "    (\"004\", \"Male\", 0, \"No\", \"No\", 2, \"No\", \"No phone\", \"Fiber optic\", \"No\", \"No\", \"No\", \"No\", \"Yes\", \"Yes\", \"Month-to-month\", \"Yes\", \"Credit card (auto)\", 89.10, 178.20, \"Yes\"),\n",
    "    (\"005\", \"Female\", 1, \"Yes\", \"No\", 56, \"Yes\", \"Yes\", \"DSL\", \"Yes\", \"Yes\", \"Yes\", \"Yes\", \"Yes\", \"Yes\", \"Two year\", \"No\", \"Mailed check\", 60.90, 3410.40, \"No\"),\n",
    "    (\"006\", \"Male\", 0, \"No\", \"Yes\", 10, \"Yes\", \"No\", \"Fiber optic\", \"No\", \"No\", \"Yes\", \"No\", \"Yes\", \"No\", \"One year\", \"Yes\", \"Electronic check\", 79.25, 792.50, \"Yes\"),\n",
    "    (\"007\", \"Female\", 0, \"Yes\", \"Yes\", 20, \"Yes\", \"Yes\", \"DSL\", \"Yes\", \"Yes\", \"No\", \"Yes\", \"No\", \"No\", \"One year\", \"No\", \"Bank transfer (auto)\", 55.00, 1100.00, \"No\")\n",
    "]\n",
    "\n",
    "columns = [\"customer_id\", \"gender\", \"senior_citizen\", \"partner\", \"dependents\", \"tenure\", \"phone_service\", \"multiple_lines\", \"internet_service\", \"online_security\", \"online_backup\", \"device_protection\", \"tech_support\", \"streaming_tv\", \"streaming_movies\", \"contract\", \"paperless_billing\", \"payment_method\", \"monthly_charges\", \"total_charges\", \"churn\"]\n",
    "\n",
    "df = spark.createDataFrame(data, columns)\n",
    "display(df)"
   ]
  },
  {
   "cell_type": "code",
   "execution_count": 0,
   "metadata": {
    "application/vnd.databricks.v1+cell": {
     "cellMetadata": {
      "byteLimit": 2048000,
      "rowLimit": 10000
     },
     "inputWidgets": {},
     "nuid": "1bae0b2c-f62e-4371-87d9-16ec34a324ce",
     "showTitle": false,
     "tableResultSettingsMap": {},
     "title": ""
    }
   },
   "outputs": [],
   "source": [
    "df.groupBy(\"churn\").count().show()\n",
    "df.describe([\"tenure\", \"monthly_charges\"]).show()\n"
   ]
  },
  {
   "cell_type": "code",
   "execution_count": 0,
   "metadata": {
    "application/vnd.databricks.v1+cell": {
     "cellMetadata": {
      "byteLimit": 2048000,
      "rowLimit": 10000
     },
     "inputWidgets": {},
     "nuid": "38411dc9-6fbf-43e6-b9c0-60b951d6abe3",
     "showTitle": false,
     "tableResultSettingsMap": {},
     "title": ""
    }
   },
   "outputs": [],
   "source": [
    "from pyspark.ml.feature import StringIndexer, VectorAssembler\n",
    "\n",
    "indexer = StringIndexer().setInputCol(\"gender\").setOutputCol(\"genderIndex\")\n",
    "df = indexer.fit(df).transform(df)\n",
    "\n",
    "assembler = VectorAssembler(\n",
    "    inputCols=[\"tenure\", \"monthly_charges\", \"genderIndex\"],\n",
    "    outputCol=\"features\"\n",
    ")\n",
    "df = assembler.transform(df)\n",
    "\n",
    "display(df)"
   ]
  },
  {
   "cell_type": "markdown",
   "metadata": {
    "application/vnd.databricks.v1+cell": {
     "cellMetadata": {},
     "inputWidgets": {},
     "nuid": "74d48db8-d2ea-41e7-921f-4085de2105bd",
     "showTitle": false,
     "tableResultSettingsMap": {},
     "title": ""
    }
   },
   "source": [
    "# ML self practice"
   ]
  },
  {
   "cell_type": "code",
   "execution_count": 0,
   "metadata": {
    "application/vnd.databricks.v1+cell": {
     "cellMetadata": {
      "byteLimit": 2048000,
      "rowLimit": 10000
     },
     "inputWidgets": {},
     "nuid": "56ab8530-b525-4f5f-b460-0a59dc033c1e",
     "showTitle": false,
     "tableResultSettingsMap": {},
     "title": ""
    }
   },
   "outputs": [],
   "source": [
    "from pyspark.ml import pipeline\n",
    "from pyspark.ml.feature import StringIndexer, VectorAssembler\n",
    "from pyspark.ml.classification import RandomForestClassifier"
   ]
  },
  {
   "cell_type": "code",
   "execution_count": 0,
   "metadata": {
    "application/vnd.databricks.v1+cell": {
     "cellMetadata": {
      "byteLimit": 2048000,
      "rowLimit": 10000
     },
     "inputWidgets": {},
     "nuid": "55891465-def9-43ce-98c2-0ef537d8fec4",
     "showTitle": false,
     "tableResultSettingsMap": {},
     "title": ""
    }
   },
   "outputs": [],
   "source": [
    "from pyspark.ml import pipeline\n",
    "from pyspark.ml.feature import StringIndexer, VectorAssembler\n",
    "from pyspark.ml.classification import RandomForestClassifier\n",
    "# we are importing pipline,  string indexer, vector assembler, random forest classifier\n",
    "\n",
    "\n",
    "indexer = StringIndexer(inputCol=\"label\", outputCol=\"labelIndexer\")\n",
    "# we are creating a string indexer input col name is lable and outputcol name is labelIndexer\n",
    "\n",
    "\n",
    "assembler = VectorAssembler(inputcols=(\"feature1\", \"feature2\" ), outputcol=(\"features\"))\n",
    "# we are creating a vector assembler input col name is feature1 and feature2 AND as output they both are mearged into one column\n",
    "rf = RandomForestClassifier(labelcol=\"labelIndexer\", featurescol=\"features\")\n",
    "# we are creating a random forest classifier in this both the outputs are puted into one column\n",
    "pipeline = pipeline.pipline(stages=[indexer, assembler, rf])\n",
    "# pipeline is created and and all the three are putted into togetherin a pipe\n",
    "model = pipeline.fit(TrainingData)\n",
    "# model is created and names training data \n",
    "# after this we make prdiction using trasformation cmd"
   ]
  },
  {
   "cell_type": "markdown",
   "metadata": {
    "application/vnd.databricks.v1+cell": {
     "cellMetadata": {},
     "inputWidgets": {},
     "nuid": "eadfbf2d-2cfc-471b-a1eb-4dc655cd37ac",
     "showTitle": false,
     "tableResultSettingsMap": {},
     "title": ""
    }
   },
   "source": [
    "## to make predicitions or transform"
   ]
  },
  {
   "cell_type": "code",
   "execution_count": 0,
   "metadata": {
    "application/vnd.databricks.v1+cell": {
     "cellMetadata": {
      "byteLimit": 2048000,
      "rowLimit": 10000
     },
     "inputWidgets": {},
     "nuid": "b1416210-3072-4f82-8cec-180f6a454495",
     "showTitle": false,
     "tableResultSettingsMap": {},
     "title": ""
    }
   },
   "outputs": [],
   "source": [
    "Predicitions = model.transform(TestingData)"
   ]
  },
  {
   "cell_type": "code",
   "execution_count": 0,
   "metadata": {
    "application/vnd.databricks.v1+cell": {
     "cellMetadata": {},
     "inputWidgets": {},
     "nuid": "208a81bc-796d-4519-b374-c237db655ca1",
     "showTitle": false,
     "tableResultSettingsMap": {},
     "title": ""
    }
   },
   "outputs": [],
   "source": []
  }
 ],
 "metadata": {
  "application/vnd.databricks.v1+notebook": {
   "computePreferences": null,
   "dashboards": [],
   "environmentMetadata": {
    "base_environment": "",
    "environment_version": "2"
   },
   "inputWidgetPreferences": null,
   "language": "python",
   "notebookMetadata": {
    "mostRecentlyExecutedCommandWithImplicitDF": {
     "commandId": 5192649004833660,
     "dataframes": [
      "_sqldf"
     ]
    },
    "pythonIndentUnit": 4
   },
   "notebookName": "ML models creation and practice",
   "widgets": {}
  },
  "language_info": {
   "name": "python"
  }
 },
 "nbformat": 4,
 "nbformat_minor": 0
}
