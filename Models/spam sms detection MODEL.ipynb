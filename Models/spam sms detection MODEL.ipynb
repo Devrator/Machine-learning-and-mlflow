{
 "cells": [
  {
   "cell_type": "code",
   "execution_count": 0,
   "metadata": {
    "application/vnd.databricks.v1+cell": {
     "cellMetadata": {
      "byteLimit": 2048000,
      "rowLimit": 10000
     },
     "inputWidgets": {},
     "nuid": "017e590d-8a63-469f-b510-150393e9e4a6",
     "showTitle": false,
     "tableResultSettingsMap": {},
     "title": ""
    }
   },
   "outputs": [],
   "source": [
    "# First we import are liberiers\n",
    "from sklearn.model_selection import train_test_split\n",
    "from sklearn.feature_extraction.text import TfidfVectorizer\n",
    "from sklearn.naive_bayes import MultinomialNB\n",
    "from sklearn.metrics import accuracy_score, f1_score, confusion_matrix\n",
    "import pandas as pd\n",
    "import mlflow\n",
    "import mlflow.sklearn"
   ]
  },
  {
   "cell_type": "code",
   "execution_count": 0,
   "metadata": {
    "application/vnd.databricks.v1+cell": {
     "cellMetadata": {
      "byteLimit": 2048000,
      "rowLimit": 10000
     },
     "inputWidgets": {},
     "nuid": "b81eb097-ab6d-48f2-a3bc-f913626726c6",
     "showTitle": false,
     "tableResultSettingsMap": {},
     "title": ""
    }
   },
   "outputs": [],
   "source": [
    "import pandas as pd\n",
    "from sklearn.model_selection import train_test_split\n",
    "from sklearn.feature_extraction.text import TfidfVectorizer\n",
    "from sklearn.naive_bayes import MultinomialNB\n",
    "from sklearn.metrics import accuracy_score, f1_score\n",
    "import mlflow\n",
    "import mlflow.sklearn\n",
    "\n",
    "# we first load the data \n",
    "df = pd.read_csv('/Workspace/Users/deepakpvinodsharma@gmail.com/THE_LEARNING_BRICK/Machine-learning-and-mlflow/spam.csv', \n",
    "                 encoding='ISO-8859-1', \n",
    "                 usecols=[0, 1])\n",
    "\n",
    "# assign columns\n",
    "df.columns = ['label', 'text']\n",
    "\n",
    "df['label'] = df['label'].map({'ham': 0, 'spam': 1})\n",
    "\n",
    "# Now we Split the data into train and test\n",
    "X_train, X_test, y_train, y_test = train_test_split(df['text'], df['label'], test_size=0.2, random_state=42)\n",
    "\n",
    "# we vectorize the text data\n",
    "vectorizer = TfidfVectorizer()\n",
    "X_train_tfidf = vectorizer.fit_transform(X_train)\n",
    "X_test_tfidf = vectorizer.transform(X_test)\n",
    "\n",
    "# now we Train the model\n",
    "model = MultinomialNB()\n",
    "\n",
    "# Start the MLflow run\n",
    "with mlflow.start_run():\n",
    "    model = model.fit(X_train_tfidf, y_train)\n",
    "    \n",
    "    # Predict and evaluate\n",
    "    y_pred = model.predict(X_test_tfidf)\n",
    "    acc = accuracy_score(y_test, y_pred)\n",
    "    f1 = f1_score(y_test, y_pred)\n",
    "    \n",
    "    # now we are logging the vector metric\n",
    "    mlflow.log_metric('accuracy', acc)\n",
    "    mlflow.log_metric('f1_score', f1)\n",
    "    \n",
    "    # now we log the model\n",
    "    mlflow.sklearn.log_model(model, \"naive_bayes_model\")\n",
    "    \n",
    "    # Saveing and logging the vec \n",
    "    import joblib\n",
    "    joblib.dump(vectorizer, \"/dbfs/tmp/vectorizer.pkl\")\n",
    "    mlflow.log_artifact(\"/dbfs/tmp/vectorizer.pkl\")\n",
    "    \n",
    "    print(f\"Accuracy: {acc}\")\n",
    "    print(f\"F1 Score: {f1}\")"
   ]
  },
  {
   "cell_type": "code",
   "execution_count": 0,
   "metadata": {
    "application/vnd.databricks.v1+cell": {
     "cellMetadata": {},
     "inputWidgets": {},
     "nuid": "76e67166-619d-45c5-88a0-c3da9204ccca",
     "showTitle": false,
     "tableResultSettingsMap": {},
     "title": ""
    }
   },
   "outputs": [],
   "source": []
  }
 ],
 "metadata": {
  "application/vnd.databricks.v1+notebook": {
   "computePreferences": null,
   "dashboards": [],
   "environmentMetadata": {
    "base_environment": "",
    "environment_version": "2"
   },
   "inputWidgetPreferences": null,
   "language": "python",
   "notebookMetadata": {
    "pythonIndentUnit": 4
   },
   "notebookName": "spam sms detection MODEL",
   "widgets": {}
  },
  "language_info": {
   "name": "python"
  }
 },
 "nbformat": 4,
 "nbformat_minor": 0
}
